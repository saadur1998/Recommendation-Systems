{
  "cells": [
    {
      "cell_type": "code",
      "source": [
        "%pip install surprise"
      ],
      "metadata": {
        "colab": {
          "base_uri": "https://localhost:8080/"
        },
        "id": "z9kf0FAk8FKU",
        "outputId": "7172b906-0287-4ccb-d9ba-ac2591495d3b"
      },
      "execution_count": 1,
      "outputs": [
        {
          "output_type": "stream",
          "name": "stdout",
          "text": [
            "Collecting surprise\n",
            "  Downloading surprise-0.1-py2.py3-none-any.whl.metadata (327 bytes)\n",
            "Collecting scikit-surprise (from surprise)\n",
            "  Downloading scikit_surprise-1.1.4.tar.gz (154 kB)\n",
            "\u001b[2K     \u001b[90m━━━━━━━━━━━━━━━━━━━━━━━━━━━━━━━━━━━━━━━━\u001b[0m \u001b[32m154.4/154.4 kB\u001b[0m \u001b[31m11.4 MB/s\u001b[0m eta \u001b[36m0:00:00\u001b[0m\n",
            "\u001b[?25h  Installing build dependencies ... \u001b[?25l\u001b[?25hdone\n",
            "  Getting requirements to build wheel ... \u001b[?25l\u001b[?25hdone\n",
            "  Preparing metadata (pyproject.toml) ... \u001b[?25l\u001b[?25hdone\n",
            "Requirement already satisfied: joblib>=1.2.0 in /usr/local/lib/python3.10/dist-packages (from scikit-surprise->surprise) (1.4.2)\n",
            "Requirement already satisfied: numpy>=1.19.5 in /usr/local/lib/python3.10/dist-packages (from scikit-surprise->surprise) (1.26.4)\n",
            "Requirement already satisfied: scipy>=1.6.0 in /usr/local/lib/python3.10/dist-packages (from scikit-surprise->surprise) (1.13.1)\n",
            "Downloading surprise-0.1-py2.py3-none-any.whl (1.8 kB)\n",
            "Building wheels for collected packages: scikit-surprise\n",
            "  Building wheel for scikit-surprise (pyproject.toml) ... \u001b[?25l\u001b[?25hdone\n",
            "  Created wheel for scikit-surprise: filename=scikit_surprise-1.1.4-cp310-cp310-linux_x86_64.whl size=2357291 sha256=f67c98ca1382454c2101e701a012c74bf8b570ef6a66ad2329f6248afddc4944\n",
            "  Stored in directory: /root/.cache/pip/wheels/4b/3f/df/6acbf0a40397d9bf3ff97f582cc22fb9ce66adde75bc71fd54\n",
            "Successfully built scikit-surprise\n",
            "Installing collected packages: scikit-surprise, surprise\n",
            "Successfully installed scikit-surprise-1.1.4 surprise-0.1\n"
          ]
        }
      ]
    },
    {
      "cell_type": "code",
      "source": [
        "%pip install dask[dataframe]"
      ],
      "metadata": {
        "colab": {
          "base_uri": "https://localhost:8080/"
        },
        "id": "GFSJQnd9mefp",
        "outputId": "5e357022-a5cb-49e9-bd94-0d809959ea8f"
      },
      "execution_count": 2,
      "outputs": [
        {
          "output_type": "stream",
          "name": "stdout",
          "text": [
            "Requirement already satisfied: dask[dataframe] in /usr/local/lib/python3.10/dist-packages (2024.8.0)\n",
            "Requirement already satisfied: click>=8.1 in /usr/local/lib/python3.10/dist-packages (from dask[dataframe]) (8.1.7)\n",
            "Requirement already satisfied: cloudpickle>=1.5.0 in /usr/local/lib/python3.10/dist-packages (from dask[dataframe]) (2.2.1)\n",
            "Requirement already satisfied: fsspec>=2021.09.0 in /usr/local/lib/python3.10/dist-packages (from dask[dataframe]) (2024.6.1)\n",
            "Requirement already satisfied: packaging>=20.0 in /usr/local/lib/python3.10/dist-packages (from dask[dataframe]) (24.1)\n",
            "Requirement already satisfied: partd>=1.4.0 in /usr/local/lib/python3.10/dist-packages (from dask[dataframe]) (1.4.2)\n",
            "Requirement already satisfied: pyyaml>=5.3.1 in /usr/local/lib/python3.10/dist-packages (from dask[dataframe]) (6.0.2)\n",
            "Requirement already satisfied: toolz>=0.10.0 in /usr/local/lib/python3.10/dist-packages (from dask[dataframe]) (0.12.1)\n",
            "Requirement already satisfied: importlib-metadata>=4.13.0 in /usr/local/lib/python3.10/dist-packages (from dask[dataframe]) (8.4.0)\n",
            "Requirement already satisfied: pandas>=2.0 in /usr/local/lib/python3.10/dist-packages (from dask[dataframe]) (2.2.2)\n",
            "Collecting dask-expr<1.2,>=1.1 (from dask[dataframe])\n",
            "  Downloading dask_expr-1.1.15-py3-none-any.whl.metadata (2.5 kB)\n",
            "INFO: pip is looking at multiple versions of dask-expr to determine which version is compatible with other requirements. This could take a while.\n",
            "  Downloading dask_expr-1.1.14-py3-none-any.whl.metadata (2.5 kB)\n",
            "  Downloading dask_expr-1.1.13-py3-none-any.whl.metadata (2.5 kB)\n",
            "  Downloading dask_expr-1.1.12-py3-none-any.whl.metadata (2.5 kB)\n",
            "  Downloading dask_expr-1.1.11-py3-none-any.whl.metadata (2.5 kB)\n",
            "  Downloading dask_expr-1.1.10-py3-none-any.whl.metadata (2.5 kB)\n",
            "Requirement already satisfied: pyarrow>=7.0.0 in /usr/local/lib/python3.10/dist-packages (from dask-expr<1.2,>=1.1->dask[dataframe]) (16.1.0)\n",
            "Requirement already satisfied: zipp>=0.5 in /usr/local/lib/python3.10/dist-packages (from importlib-metadata>=4.13.0->dask[dataframe]) (3.20.2)\n",
            "Requirement already satisfied: numpy>=1.22.4 in /usr/local/lib/python3.10/dist-packages (from pandas>=2.0->dask[dataframe]) (1.26.4)\n",
            "Requirement already satisfied: python-dateutil>=2.8.2 in /usr/local/lib/python3.10/dist-packages (from pandas>=2.0->dask[dataframe]) (2.8.2)\n",
            "Requirement already satisfied: pytz>=2020.1 in /usr/local/lib/python3.10/dist-packages (from pandas>=2.0->dask[dataframe]) (2024.2)\n",
            "Requirement already satisfied: tzdata>=2022.7 in /usr/local/lib/python3.10/dist-packages (from pandas>=2.0->dask[dataframe]) (2024.2)\n",
            "Requirement already satisfied: locket in /usr/local/lib/python3.10/dist-packages (from partd>=1.4.0->dask[dataframe]) (1.0.0)\n",
            "Requirement already satisfied: six>=1.5 in /usr/local/lib/python3.10/dist-packages (from python-dateutil>=2.8.2->pandas>=2.0->dask[dataframe]) (1.16.0)\n",
            "Downloading dask_expr-1.1.10-py3-none-any.whl (242 kB)\n",
            "\u001b[2K   \u001b[90m━━━━━━━━━━━━━━━━━━━━━━━━━━━━━━━━━━━━━━━━\u001b[0m \u001b[32m242.2/242.2 kB\u001b[0m \u001b[31m16.6 MB/s\u001b[0m eta \u001b[36m0:00:00\u001b[0m\n",
            "\u001b[?25hInstalling collected packages: dask-expr\n",
            "Successfully installed dask-expr-1.1.10\n"
          ]
        }
      ]
    },
    {
      "source": [
        "\n",
        "# IMPORTANT: RUN THIS CELL IN ORDER TO IMPORT YOUR KAGGLE DATA SOURCES\n",
        "# TO THE CORRECT LOCATION (/kaggle/input) IN YOUR NOTEBOOK,\n",
        "# THEN FEEL FREE TO DELETE THIS CELL.\n",
        "# NOTE: THIS NOTEBOOK ENVIRONMENT DIFFERS FROM KAGGLE'S PYTHON\n",
        "# ENVIRONMENT SO THERE MAY BE MISSING LIBRARIES USED BY YOUR\n",
        "# NOTEBOOK.\n",
        "\n",
        "import os\n",
        "import sys\n",
        "from tempfile import NamedTemporaryFile\n",
        "from urllib.request import urlopen\n",
        "from urllib.parse import unquote, urlparse\n",
        "from urllib.error import HTTPError\n",
        "from zipfile import ZipFile\n",
        "import tarfile\n",
        "import shutil\n",
        "\n",
        "CHUNK_SIZE = 40960\n",
        "DATA_SOURCE_MAPPING = ':https%3A%2F%2Fstorage.googleapis.com%2Fkaggle-data-sets%2F1636%2F792972%2Fbundle%2Farchive.zip%3FX-Goog-Algorithm%3DGOOG4-RSA-SHA256%26X-Goog-Credential%3Dgcp-kaggle-com%2540kaggle-161607.iam.gserviceaccount.com%252F20241002%252Fauto%252Fstorage%252Fgoog4_request%26X-Goog-Date%3D20241002T203159Z%26X-Goog-Expires%3D259200%26X-Goog-SignedHeaders%3Dhost%26X-Goog-Signature%3D6e3fd2ab55c10ade0430f479818d966568b70e35de0322718acb5cdbbba6af25dff6c08b7109454a4f45e48dbf97f6a0d608bccb9ca474d8b0accfeb84f5e6f744f4bdb54fcb464358d6f267702d2c1fdbcd3c32b77c057fc67f09bc869ccac30b9baeff681366d101277d74af1224c869628c36c10d643ec6cdd62858eb38f1740320d26f02f0aa3aa2ffff5432cb41be65314f730f88f287d1703e8f40fd3ee4cb10024b7ef801b5780704a1b0f0bed181c9fcd59ff711f05e35bf240674b832a539c82f0b251b675b298a736cdb4e9e66d56cb7f75cb3d09c2789210730102395a17f7784c74a9c1c9a1f5c3c4d1fb5029fcd55f75b1cfa2337c8219a0ed4'\n",
        "\n",
        "KAGGLE_INPUT_PATH='/kaggle/input'\n",
        "KAGGLE_WORKING_PATH='/kaggle/working'\n",
        "KAGGLE_SYMLINK='kaggle'\n",
        "\n",
        "!umount /kaggle/input/ 2> /dev/null\n",
        "shutil.rmtree('/kaggle/input', ignore_errors=True)\n",
        "os.makedirs(KAGGLE_INPUT_PATH, 0o777, exist_ok=True)\n",
        "os.makedirs(KAGGLE_WORKING_PATH, 0o777, exist_ok=True)\n",
        "\n",
        "try:\n",
        "  os.symlink(KAGGLE_INPUT_PATH, os.path.join(\"..\", 'input'), target_is_directory=True)\n",
        "except FileExistsError:\n",
        "  pass\n",
        "try:\n",
        "  os.symlink(KAGGLE_WORKING_PATH, os.path.join(\"..\", 'working'), target_is_directory=True)\n",
        "except FileExistsError:\n",
        "  pass\n",
        "\n",
        "for data_source_mapping in DATA_SOURCE_MAPPING.split(','):\n",
        "    directory, download_url_encoded = data_source_mapping.split(':')\n",
        "    download_url = unquote(download_url_encoded)\n",
        "    filename = urlparse(download_url).path\n",
        "    destination_path = os.path.join(KAGGLE_INPUT_PATH, directory)\n",
        "    try:\n",
        "        with urlopen(download_url) as fileres, NamedTemporaryFile() as tfile:\n",
        "            total_length = fileres.headers['content-length']\n",
        "            print(f'Downloading {directory}, {total_length} bytes compressed')\n",
        "            dl = 0\n",
        "            data = fileres.read(CHUNK_SIZE)\n",
        "            while len(data) > 0:\n",
        "                dl += len(data)\n",
        "                tfile.write(data)\n",
        "                done = int(50 * dl / int(total_length))\n",
        "                sys.stdout.write(f\"\\r[{'=' * done}{' ' * (50-done)}] {dl} bytes downloaded\")\n",
        "                sys.stdout.flush()\n",
        "                data = fileres.read(CHUNK_SIZE)\n",
        "            if filename.endswith('.zip'):\n",
        "              with ZipFile(tfile) as zfile:\n",
        "                zfile.extractall(destination_path)\n",
        "            else:\n",
        "              with tarfile.open(tfile.name) as tarfile:\n",
        "                tarfile.extractall(destination_path)\n",
        "            print(f'\\nDownloaded and uncompressed: {directory}')\n",
        "    except HTTPError as e:\n",
        "        print(f'Failed to load (likely expired) {download_url} to path {destination_path}')\n",
        "        continue\n",
        "    except OSError as e:\n",
        "        print(f'Failed to load {download_url} to path {destination_path}')\n",
        "        continue\n",
        "\n",
        "print('Data source import complete.')\n"
      ],
      "metadata": {
        "colab": {
          "base_uri": "https://localhost:8080/"
        },
        "id": "kHdlQwYH7rjQ",
        "outputId": "49ea8601-2673-4a10-afab-870b70fdac3c"
      },
      "cell_type": "code",
      "outputs": [
        {
          "output_type": "stream",
          "name": "stdout",
          "text": [
            "Downloading , 716193814 bytes compressed\n",
            "[==================================================] 716193814 bytes downloaded\n",
            "Downloaded and uncompressed: \n",
            "Data source import complete.\n"
          ]
        }
      ],
      "execution_count": 3
    },
    {
      "metadata": {
        "_uuid": "1f60257741c703435318df7e05e2a46c6e11af63",
        "_cell_guid": "637b34e2-b123-4b2d-8e70-97631b0321f9",
        "id": "I-ieiYO37rjW"
      },
      "cell_type": "markdown",
      "source": [
        "Let's import the library we needed before we get started:"
      ]
    },
    {
      "metadata": {
        "_uuid": "3bc39967a41f9ec3989f971c49916b822b0806b7",
        "collapsed": true,
        "_cell_guid": "046298b9-7ef7-4e68-aef2-a1fe316be5a0",
        "trusted": false,
        "id": "66oLUxVn7rjW"
      },
      "cell_type": "code",
      "source": [
        "import pandas as pd\n",
        "import numpy as np\n",
        "import math\n",
        "import re\n",
        "from scipy.sparse import csr_matrix\n",
        "import matplotlib.pyplot as plt\n",
        "import seaborn as sns\n",
        "from surprise import Reader, Dataset, SVD\n",
        "from surprise.model_selection import cross_validate\n",
        "sns.set_style(\"darkgrid\")\n",
        "\n",
        "import dask.dataframe as dd"
      ],
      "execution_count": 4,
      "outputs": []
    },
    {
      "metadata": {
        "_uuid": "665b9a4bceca7bb318e39f1a5825170b18c6cc63",
        "_cell_guid": "be4477f1-7a11-48f4-8147-262a6198609f",
        "id": "IiNR0VAy7rjW"
      },
      "cell_type": "markdown",
      "source": [
        "Next let's load first data file and get a feeling of how huge the dataset is:"
      ]
    },
    {
      "metadata": {
        "_uuid": "2a5476e11ee4539c129f2da35fccdacf2c296765",
        "collapsed": true,
        "_cell_guid": "0343ba37-0654-469c-98e5-812ecbaca528",
        "trusted": false,
        "id": "tCO-d2gs7rjX"
      },
      "cell_type": "code",
      "source": [
        "def load_data(path):\n",
        "    columns = ['Cust_Id', 'Rating', 'Date']\n",
        "    df = pd.read_csv(path, header = None, names = columns)\n",
        "    df['Rating'] = df['Rating'].astype(float)\n",
        "    return df"
      ],
      "execution_count": 5,
      "outputs": []
    },
    {
      "cell_type": "code",
      "source": [
        "df1 = load_data('../input/combined_data_1.txt')\n",
        "df2 = load_data('../input/combined_data_2.txt')\n",
        "df3 = load_data('../input/combined_data_3.txt')\n",
        "df4 = load_data('../input/combined_data_4.txt')"
      ],
      "metadata": {
        "id": "K42LKbkBBqdJ"
      },
      "execution_count": 6,
      "outputs": []
    },
    {
      "cell_type": "code",
      "source": [
        "df = pd.concat([df1, df2, df3, df4], axis=0, ignore_index=True)\n",
        "print(f'Dataset shape: {df.shape}')"
      ],
      "metadata": {
        "colab": {
          "base_uri": "https://localhost:8080/"
        },
        "id": "OPZuxPU6CAOe",
        "outputId": "49950c1a-768f-4e60-b91e-589e7e09fdfb"
      },
      "execution_count": 7,
      "outputs": [
        {
          "output_type": "stream",
          "name": "stdout",
          "text": [
            "Dataset shape: (100498277, 3)\n"
          ]
        }
      ]
    },
    {
      "metadata": {
        "_uuid": "5bfa706c8f28f965b669dcfb285c9c32c1478bad",
        "_cell_guid": "78a857d7-1ab1-4d93-b750-9c14b4ba2c9a",
        "id": "A4oCp5M47rjX"
      },
      "cell_type": "markdown",
      "source": [
        "## Data viewing"
      ]
    },
    {
      "cell_type": "code",
      "source": [
        "df.isnull().sum()"
      ],
      "metadata": {
        "colab": {
          "base_uri": "https://localhost:8080/",
          "height": 178
        },
        "id": "Vf1UGjpxbKCI",
        "outputId": "d7ad65f2-68c3-4bfb-c69f-496cb7e846f3"
      },
      "execution_count": 8,
      "outputs": [
        {
          "output_type": "execute_result",
          "data": {
            "text/plain": [
              "Cust_Id        0\n",
              "Rating     17770\n",
              "Date       17770\n",
              "dtype: int64"
            ],
            "text/html": [
              "<div>\n",
              "<style scoped>\n",
              "    .dataframe tbody tr th:only-of-type {\n",
              "        vertical-align: middle;\n",
              "    }\n",
              "\n",
              "    .dataframe tbody tr th {\n",
              "        vertical-align: top;\n",
              "    }\n",
              "\n",
              "    .dataframe thead th {\n",
              "        text-align: right;\n",
              "    }\n",
              "</style>\n",
              "<table border=\"1\" class=\"dataframe\">\n",
              "  <thead>\n",
              "    <tr style=\"text-align: right;\">\n",
              "      <th></th>\n",
              "      <th>0</th>\n",
              "    </tr>\n",
              "  </thead>\n",
              "  <tbody>\n",
              "    <tr>\n",
              "      <th>Cust_Id</th>\n",
              "      <td>0</td>\n",
              "    </tr>\n",
              "    <tr>\n",
              "      <th>Rating</th>\n",
              "      <td>17770</td>\n",
              "    </tr>\n",
              "    <tr>\n",
              "      <th>Date</th>\n",
              "      <td>17770</td>\n",
              "    </tr>\n",
              "  </tbody>\n",
              "</table>\n",
              "</div><br><label><b>dtype:</b> int64</label>"
            ]
          },
          "metadata": {},
          "execution_count": 8
        }
      ]
    },
    {
      "metadata": {
        "_uuid": "b96e6aebfe14e3be18722b759654b732b8fa4d51",
        "_cell_guid": "48f3f057-706a-4667-b58e-79d70893cbb1",
        "id": "HFUP5WcO7rjY"
      },
      "cell_type": "markdown",
      "source": [
        "Let's give a first look on how the data spread:"
      ]
    },
    {
      "metadata": {
        "_uuid": "7e8780821d463af5bdcee9ec2662cf27d89745e4",
        "_cell_guid": "0d82d7df-6c77-44f2-a0bc-70ae0324329f",
        "trusted": false,
        "colab": {
          "base_uri": "https://localhost:8080/",
          "height": 926
        },
        "id": "-w78CgLx7rjY",
        "outputId": "b55eb4b8-ed6d-452b-a794-7be9a04bdd37"
      },
      "cell_type": "code",
      "source": [
        "p = df.groupby('Rating')['Rating'].agg(['count'])\n",
        "\n",
        "# get movie count\n",
        "movie_count = df.isnull().sum()[1]\n",
        "\n",
        "# get customer count\n",
        "cust_count = df['Cust_Id'].nunique() - movie_count\n",
        "\n",
        "# get rating count\n",
        "rating_count = df['Cust_Id'].count() - movie_count\n",
        "\n",
        "ax = p.plot(kind = 'barh', legend = False, figsize = (15,10))\n",
        "plt.title('Total pool: {:,} Movies, {:,} customers, {:,} ratings given'.format(movie_count, cust_count, rating_count), fontsize=20)\n",
        "plt.axis('off')\n",
        "\n",
        "for i in range(1,6):\n",
        "    ax.text(p.iloc[i-1][0]/4, i-1, 'Rating {}: {:.0f}%'.format(i, p.iloc[i-1][0]*100 / p.sum()[0]), color = 'white', weight = 'bold')\n",
        "\n"
      ],
      "execution_count": 9,
      "outputs": [
        {
          "output_type": "stream",
          "name": "stderr",
          "text": [
            "<ipython-input-9-881a67ca2680>:4: FutureWarning: Series.__getitem__ treating keys as positions is deprecated. In a future version, integer keys will always be treated as labels (consistent with DataFrame behavior). To access a value by position, use `ser.iloc[pos]`\n",
            "  movie_count = df.isnull().sum()[1]\n",
            "<ipython-input-9-881a67ca2680>:17: FutureWarning: Series.__getitem__ treating keys as positions is deprecated. In a future version, integer keys will always be treated as labels (consistent with DataFrame behavior). To access a value by position, use `ser.iloc[pos]`\n",
            "  ax.text(p.iloc[i-1][0]/4, i-1, 'Rating {}: {:.0f}%'.format(i, p.iloc[i-1][0]*100 / p.sum()[0]), color = 'white', weight = 'bold')\n"
          ]
        },
        {
          "output_type": "display_data",
          "data": {
            "text/plain": [
              "<Figure size 1500x1000 with 1 Axes>"
            ],
            "image/png": "[encoded data removed]"
          },
          "metadata": {}
        }
      ]
    },
    {
      "metadata": {
        "_uuid": "dddad55f2699f3f4c02ae64a3e470c314e248643",
        "_cell_guid": "a7394a2b-8c79-40b8-b967-765d3ae0ad10",
        "id": "8epnLR2E7rjY"
      },
      "cell_type": "markdown",
      "source": [
        "We can see that the rating tends to be relatively positive (>3). This may be due to the fact that unhappy customers tend to just leave instead of making efforts to rate. We can keep this in mind - low rating movies mean they are generally really bad"
      ]
    },
    {
      "metadata": {
        "_uuid": "bf7bd867b322b3e40c4eb1204d345029b4eb31b6",
        "_cell_guid": "581427e0-87df-46b1-a0af-7eb06932b1a3",
        "id": "MRig5k3j7rjY"
      },
      "cell_type": "markdown",
      "source": [
        "## Data cleaning"
      ]
    },
    {
      "metadata": {
        "_uuid": "f232d44b5a8282bdcfbab54861bbd7990132e2c7",
        "_cell_guid": "3165defc-df86-49a8-ba51-6abb9fa253b1",
        "id": "W9F-qfj07rjY"
      },
      "cell_type": "markdown",
      "source": [
        "Movie ID is really a mess import! Looping through dataframe to add Movie ID column WILL make the Kernel run out of memory as it is too inefficient. I achieve my task by first creating a numpy array with correct length then add the whole array as column into the main dataframe! Let's see how it is done below:"
      ]
    },
    {
      "cell_type": "code",
      "source": [
        "df['Movie_id'] = df['Rating'].isna().cumsum()\n",
        "df.dropna(inplace = True)"
      ],
      "metadata": {
        "id": "k_OvkQHhM8yj"
      },
      "execution_count": 10,
      "outputs": []
    },
    {
      "cell_type": "code",
      "source": [
        "df['Movie_id'] = df['Movie_id'].astype(int)\n",
        "df['Cust_Id'] = df['Cust_Id'].astype(int)"
      ],
      "metadata": {
        "id": "-_ya60tEN4RF"
      },
      "execution_count": 11,
      "outputs": []
    },
    {
      "metadata": {
        "_uuid": "7abf85f047576e1c8fe7742e28bd2a55d33c366c",
        "_cell_guid": "fd1a2d66-78b0-4191-8ca2-0caef60e91fa",
        "id": "OljyHQ-u7rjZ"
      },
      "cell_type": "markdown",
      "source": [
        "## Data slicing"
      ]
    },
    {
      "metadata": {
        "_uuid": "b0107145609698c552ad9e74fd192cbbe93c4bb3",
        "_cell_guid": "6532819a-7b08-45c4-8b25-952568d7d465",
        "id": "7JCXYEV77rjZ"
      },
      "cell_type": "markdown",
      "source": [
        "The data set now is super huge. I have tried many different ways but can't get the Kernel running as intended without memory error. Therefore I tried to reduce the data volumn by improving the data quality below:\n",
        "\n",
        "* Remove movie with too less reviews (they are relatively not popular)\n",
        "* Remove customer who give too less reviews (they are relatively less active)\n",
        "\n",
        "Having above benchmark will have significant improvement on efficiency, since those unpopular movies and non-active customers still occupy same volumn as those popular movies and active customers in the view of matrix (NaN still occupy space). This should help improve the statistical signifiance too.\n",
        "\n",
        "Let's see how it is implemented:"
      ]
    },
    {
      "cell_type": "code",
      "source": [
        "drop_mov_index = df.Movie_id.value_counts()[df.Movie_id.value_counts()> round(df.Movie_id.value_counts().quantile(0.8),0)].index"
      ],
      "metadata": {
        "id": "lpfwSFUrQ2Nb"
      },
      "execution_count": 12,
      "outputs": []
    },
    {
      "cell_type": "code",
      "source": [
        "drop_cust_index = df.Cust_Id.value_counts()[df.Cust_Id.value_counts()> round(df.Cust_Id.value_counts().quantile(0.8),0)].index"
      ],
      "metadata": {
        "id": "IPDsPfg2SMOe"
      },
      "execution_count": 13,
      "outputs": []
    },
    {
      "cell_type": "code",
      "source": [
        "df_permanent = df.copy()"
      ],
      "metadata": {
        "id": "MSTtlWpBTK5s"
      },
      "execution_count": 14,
      "outputs": []
    },
    {
      "cell_type": "code",
      "source": [
        "df = df[~df.Movie_id.isin(drop_mov_index)]\n",
        "df = df[~df.Cust_Id.isin(drop_cust_index)]\n",
        "df.reset_index(drop=True, inplace=True)"
      ],
      "metadata": {
        "id": "r2yTt9QpR_UX"
      },
      "execution_count": 15,
      "outputs": []
    },
    {
      "cell_type": "code",
      "source": [
        "df.shape"
      ],
      "metadata": {
        "colab": {
          "base_uri": "https://localhost:8080/"
        },
        "id": "baYoKwgGSken",
        "outputId": "05c3bbf1-db0d-4148-9537-8ba311d9cafe"
      },
      "execution_count": 16,
      "outputs": [
        {
          "output_type": "execute_result",
          "data": {
            "text/plain": [
              "(3217860, 4)"
            ]
          },
          "metadata": {},
          "execution_count": 16
        }
      ]
    },
    {
      "metadata": {
        "_uuid": "bc6022b8d87bfb7679984bcbd4b928a54ef19be8",
        "_cell_guid": "bebeaf19-b3a0-45d9-8a91-deaff2881d71",
        "id": "4Ywy1ErA7rjZ"
      },
      "cell_type": "markdown",
      "source": [
        "Now let's trim down our data, whats the difference in data size?"
      ]
    },
    {
      "metadata": {
        "_uuid": "ea0da55846a3795aead5d0365d5fcf91b03636ab",
        "_cell_guid": "7f10cc54-4021-4748-9f2f-933d541acee4",
        "id": "T7isYd-T7rja"
      },
      "cell_type": "markdown",
      "source": [
        "Let's pivot the data set and put it into a giant matrix - we need it for our recommendation system:"
      ]
    },
    {
      "cell_type": "code",
      "source": [
        "# Read in the large CSV using Dask\n",
        "df_dask = dd.from_pandas(df,npartitions=1000)\n",
        "\n",
        "# Convert 'Movie_id' to categorical dtype\n",
        "df_dask['Movie_id'] = df_dask['Movie_id'].astype('category').cat.as_known()\n",
        "\n",
        "# Create a pivot table using Dask\n",
        "df_pivot_dask = df_dask.pivot_table(values='Rating', index='Cust_Id', columns='Movie_id', aggfunc='mean')\n",
        "\n",
        "# Compute the final result\n",
        "df_pivot = df_pivot_dask.compute()"
      ],
      "metadata": {
        "id": "Q_nRq6IHcPVX"
      },
      "execution_count": null,
      "outputs": []
    }
  ],
  "metadata": {
    "kernelspec": {
      "display_name": "Python 3",
      "name": "python3"
    },
    "language_info": {
      "pygments_lexer": "ipython3",
      "nbconvert_exporter": "python",
      "version": "3.6.4",
      "file_extension": ".py",
      "codemirror_mode": {
        "name": "ipython",
        "version": 3
      },
      "name": "python",
      "mimetype": "text/x-python"
    },
    "colab": {
      "provenance": [],
      "machine_shape": "hm",
      "gpuType": "A100"
    },
    "accelerator": "GPU"
  },
  "nbformat": 4,
  "nbformat_minor": 0
}