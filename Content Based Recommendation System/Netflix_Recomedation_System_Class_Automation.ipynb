{
  "nbformat": 4,
  "nbformat_minor": 0,
  "metadata": {
    "colab": {
      "provenance": []
    },
    "kernelspec": {
      "name": "python3",
      "display_name": "Python 3"
    },
    "language_info": {
      "name": "python"
    }
  },
  "cells": [
    {
      "cell_type": "markdown",
      "source": [
        "# **NETFLIX MOVIE RECOMMENDATION SYSTEM**\n",
        "In this notebook, I have created classes and functions to automate the code.\\\n",
        "You can call individual functions in the class or call the automate() function to run them all in sequence.\\\n",
        "This approach makes the code cleaner but reduces flexibility."
      ],
      "metadata": {
        "id": "2EJUaZbwCUZt"
      }
    },
    {
      "cell_type": "code",
      "source": [
        "%pip install neattext"
      ],
      "metadata": {
        "colab": {
          "base_uri": "https://localhost:8080/"
        },
        "id": "LwuiRTHqAAqI",
        "outputId": "3e9135e2-f3f9-4476-825c-d0ab9b97fef2"
      },
      "execution_count": null,
      "outputs": [
        {
          "output_type": "stream",
          "name": "stdout",
          "text": [
            "Collecting neattext\n",
            "  Downloading neattext-0.1.3-py3-none-any.whl.metadata (12 kB)\n",
            "Downloading neattext-0.1.3-py3-none-any.whl (114 kB)\n",
            "\u001b[?25l   \u001b[90m━━━━━━━━━━━━━━━━━━━━━━━━━━━━━━━━━━━━━━━━\u001b[0m \u001b[32m0.0/114.7 kB\u001b[0m \u001b[31m?\u001b[0m eta \u001b[36m-:--:--\u001b[0m\r\u001b[2K   \u001b[90m━━━━━━━━━━━━━━━━━━━━━━━━━━━━━━━━━━━━━━━━\u001b[0m \u001b[32m114.7/114.7 kB\u001b[0m \u001b[31m4.3 MB/s\u001b[0m eta \u001b[36m0:00:00\u001b[0m\n",
            "\u001b[?25hInstalling collected packages: neattext\n",
            "Successfully installed neattext-0.1.3\n"
          ]
        }
      ]
    },
    {
      "cell_type": "code",
      "execution_count": 50,
      "metadata": {
        "id": "7hLZLacx_exc",
        "colab": {
          "base_uri": "https://localhost:8080/",
          "height": 17
        },
        "outputId": "74977d49-6381-4642-e17b-2bdc70bb893d"
      },
      "outputs": [
        {
          "output_type": "display_data",
          "data": {
            "text/html": [
              "        <script type=\"text/javascript\">\n",
              "        window.PlotlyConfig = {MathJaxConfig: 'local'};\n",
              "        if (window.MathJax && window.MathJax.Hub && window.MathJax.Hub.Config) {window.MathJax.Hub.Config({SVG: {font: \"STIX-Web\"}});}\n",
              "        if (typeof require !== 'undefined') {\n",
              "        require.undef(\"plotly\");\n",
              "        requirejs.config({\n",
              "            paths: {\n",
              "                'plotly': ['https://cdn.plot.ly/plotly-2.35.2.min']\n",
              "            }\n",
              "        });\n",
              "        require(['plotly'], function(Plotly) {\n",
              "            window._Plotly = Plotly;\n",
              "        });\n",
              "        }\n",
              "        </script>\n",
              "        "
            ]
          },
          "metadata": {}
        }
      ],
      "source": [
        "import pandas as pd\n",
        "import numpy as np\n",
        "import neattext.functions as nfx\n",
        "from sklearn.feature_extraction.text import TfidfVectorizer, CountVectorizer\n",
        "from sklearn.metrics.pairwise import cosine_similarity\n",
        "\n",
        "import plotly.graph_objects as go\n",
        "import plotly.io as pio\n",
        "#pio.renderers.default = 'colab'\n",
        "pio.renderers.default = 'notebook'\n",
        "from plotly.offline import init_notebook_mode, iplot\n",
        "init_notebook_mode(connected=True)\n",
        "\n",
        "import time\n",
        "\n",
        "import warnings\n",
        "warnings.filterwarnings('ignore')"
      ]
    },
    {
      "cell_type": "code",
      "source": [
        "class recommendationEngine:\n",
        "\n",
        "  def __init__(self):\n",
        "    self.df=pd.read_csv('netflix_titles.csv')\n",
        "\n",
        "  def clean_data(self,type):\n",
        "    self.df.rename(columns={'listed_in':'genre'},inplace=True)\n",
        "    df_temp=self.df[self.df['type']==type].copy()\n",
        "    df_temp.reset_index(drop=True,inplace=True)\n",
        "\n",
        "    # filling NaN manually at the director and ratings column so pandas can treat it as a Non null-value\n",
        "    df_temp['director'].fillna('NaN', inplace = True)\n",
        "    df_temp['rating'].fillna('NaN', inplace = True)\n",
        "\n",
        "    # Dropping null values\n",
        "    df_temp.dropna(inplace= True)\n",
        "    df_temp.reset_index(drop=True, inplace=True)\n",
        "\n",
        "    time.sleep(1)\n",
        "    print(f'Shape of {type} dataframe is {df_temp.shape[0]} rows and {df_temp.shape[1]} columns\\n')\n",
        "\n",
        "    temp=df_temp[['title','director','cast','country','genre','rating','type']].copy()\n",
        "    time.sleep(1)\n",
        "    print(f'Few statistics about the columns of the {type} Dataset are\\n{temp.describe().T}\\n')\n",
        "\n",
        "    return df_temp, temp\n",
        "\n",
        "  #Removing stopwords and special characters since they have negligible influence on text analysis\n",
        "  #sw=stopward\n",
        "  def remove_stop_char(self,data):\n",
        "    data['cast']=data['cast'].apply(nfx.remove_stopwords)\n",
        "    data['country']=data['country'].apply(nfx.remove_stopwords)\n",
        "    data['genre']=data['genre'].apply(nfx.remove_stopwords)\n",
        "    data['country']=data['country'].apply(nfx.remove_special_characters)\n",
        "\n",
        "    if data['type'].unique()[0]=='Movie':\n",
        "      data['director']=data['director'].apply(nfx.remove_stopwords)\n",
        "      time.sleep(1)\n",
        "      print('Removed Stopwords and Special Characters from Movies Dataset')\n",
        "    else:\n",
        "      time.sleep(1)\n",
        "      print('Removed Stopwords and Special Characters from TV Show Dataset')\n",
        "    return data\n",
        "\n",
        "  #Vectorizing Data\n",
        "  def vectorization(self,data,column,token=True):\n",
        "    if token:\n",
        "      countVector = CountVectorizer(binary=True, tokenizer=lambda x:x.split(','))\n",
        "      time.sleep(1)\n",
        "      print(f'Vectorized {column} column of {data.type.unique()[0]} dataset')\n",
        "      return countVector.fit_transform(data[column]).toarray()\n",
        "    else:\n",
        "      countVector = CountVectorizer(binary=True)\n",
        "      time.sleep(1)\n",
        "      print(f'Vectorized {column} column of {data.type.unique()[0]} dataset')\n",
        "      return countVector.fit_transform(data[column]).toarray()\n",
        "\n",
        "  def binary(self,type,cast,country,genre,director=1):\n",
        "    if type=='Movie':\n",
        "      time.sleep(1)\n",
        "      print('Converting Movies data to Binary')\n",
        "      binary_director=pd.DataFrame(director).transpose()\n",
        "    else:\n",
        "      time.sleep(1)\n",
        "      print('Converting TV Show data to Binary')\n",
        "    binary_cast=pd.DataFrame(cast).transpose()\n",
        "    binary_country=pd.DataFrame(country).transpose()\n",
        "    binary_genre=pd.DataFrame(genre).transpose()\n",
        "\n",
        "    # Concating Dataframe\n",
        "    if type=='Movie':\n",
        "      df_binary = pd.concat([binary_director,binary_cast,binary_country,binary_genre],axis=0, ignore_index=True)\n",
        "    else:\n",
        "      df_binary = pd.concat([binary_cast,  binary_country, binary_genre], axis=0,ignore_index=True)\n",
        "    time.sleep(1)\n",
        "    print('Converted\\n')\n",
        "    return df_binary.T\n",
        "\n",
        "  def cosine(self,df_binary,data):\n",
        "    time.sleep(1)\n",
        "    print(f'Calculating Cosine Similarity of {data.type.unique()[0]} data')\n",
        "    cos_sim = cosine_similarity(df_binary)\n",
        "    time.sleep(1)\n",
        "    print('Cosine Similarity Calculated\\n')\n",
        "    return cos_sim\n",
        "\n",
        "  def recommedation(self,title,df_movies,df_tv,movie_sim,tv_sim):\n",
        "    if title in df_movies.title.values:\n",
        "      index=df_movies[df_movies.title == title].index.item()\n",
        "      scores=dict(enumerate(movie_sim[index]))\n",
        "      sorted_scores=dict(sorted(scores.items(),key=lambda x:x[1],reverse=True))\n",
        "\n",
        "      selected_movies_index=[id for id, scores in sorted_scores.items()]\n",
        "      selected_movies_score=[scores for id, scores in sorted_scores.items()]\n",
        "\n",
        "      recommend_movies=df_movies.iloc[selected_movies_index]\n",
        "      recommend_movies['similarity'] = selected_movies_score\n",
        "\n",
        "      movie_recommend = recommend_movies.reset_index(drop=True)\n",
        "      return movie_recommend[1:6]\n",
        "\n",
        "    elif title in df_tv['title'].values:\n",
        "      index=df_tv[df_tv.title == title].index.item()\n",
        "      scores=dict(enumerate(tv_sim[index]))\n",
        "      sorted_scores=dict(sorted(scores.items(),key=lambda x:x[1],reverse=True))\n",
        "\n",
        "      selected_tv_index=[id for id, scores in sorted_scores.items()]\n",
        "      selected_tv_score=[scores for id, scores in sorted_scores.items()]\n",
        "\n",
        "      recommend_tv=df_tv.iloc[selected_tv_index]\n",
        "      recommend_tv['similarity'] = selected_tv_score\n",
        "\n",
        "      tv_recommend = recommend_tv.reset_index(drop=True)\n",
        "      return tv_recommend[1:6]\n",
        "\n",
        "    else:\n",
        "      print('Title not found')\n",
        "\n",
        "  def table(self,df):\n",
        "    fig = go.Figure(data=[go.Table(\n",
        "        columnorder=[1, 2, 3, 4, 5],\n",
        "        columnwidth=[20, 20, 20, 30, 50],\n",
        "        header=dict(values=list(['Type', 'Title', 'Country', 'Genre(s)', 'Description']),\n",
        "                    line_color='black', font=dict(color='black', family=\"Gravitas One\", size=20), height=40,\n",
        "                    fill_color='#FF6865',\n",
        "                    align='center'),\n",
        "        cells=dict(values=[df.type, df.title, df.country, df.genre, df.description],\n",
        "                   font=dict(color='black', family=\"Lato\", size=16),\n",
        "                   fill_color='#FFB3B2',\n",
        "                   align='left'))\n",
        "    ])\n",
        "\n",
        "    fig.update_layout(height=700,\n",
        "                      title={'text': \"Top Movie Recommendations\", 'font': {'size': 22, 'family': 'Gravitas One'}},\n",
        "                      title_x=0.5\n",
        "                      )\n",
        "    fig.show()\n",
        "\n",
        "  def automate():\n",
        "    engine=recommendationEngine()\n",
        "    time.sleep(1)\n",
        "    print('RECOMMENDATION ENGINE CALLED\\n')\n",
        "\n",
        "    df_movies,movies=engine.clean_data('Movie')\n",
        "    df_tv,tv=engine.clean_data('TV Show')\n",
        "\n",
        "    movies=engine.remove_stop_char(movies)\n",
        "    tv=engine.remove_stop_char(tv)\n",
        "    print('\\n')\n",
        "\n",
        "    country = engine.vectorization(movies,'country',False)\n",
        "    director = engine.vectorization(movies,'director')\n",
        "    cast = engine.vectorization(movies,'cast')\n",
        "    genre = engine.vectorization(movies,'genre')\n",
        "\n",
        "    tv_country = engine.vectorization(tv,'country',False)\n",
        "    tv_cast = engine.vectorization(tv,'cast')\n",
        "    tv_genre = engine.vectorization(tv,'genre')\n",
        "    print('\\n')\n",
        "\n",
        "    movie_binary = engine.binary('Movie',cast,country,genre,director)\n",
        "    movie_sim = engine.cosine(movie_binary,movies)\n",
        "\n",
        "    tv_binary = engine.binary('TV Show',tv_cast,tv_country,tv_genre)\n",
        "    tv_sim = engine.cosine(tv_binary,tv)\n",
        "\n",
        "    time.sleep(1)\n",
        "    print('RECOMENDATION ENGINE CREATED\\n')\n",
        "    time.sleep(1)\n",
        "    print('USE engine.recommedation(\"title\",df_movies,df_tv,movie_sim,tv_sim) TO GET RECOMMENDATIONS IN TABULAR FORM USING PANDAS\\n')\n",
        "    time.sleep(1)\n",
        "    print('USE engine.table(engine.recommedation(\"title\",df_movies,df_tv,movie_sim,tv_sim)) TO GET RECOMMENDATIONS IN TABULAR FORM USING PLOTLY\\n')\n",
        "\n",
        "    return engine,df_movies,df_tv,movie_sim,tv_sim,engine.df"
      ],
      "metadata": {
        "id": "TOuKr_SDOQYr"
      },
      "execution_count": null,
      "outputs": []
    },
    {
      "cell_type": "code",
      "source": [
        "engine,df_movies,df_tv,movie_sim,tv_sim,df = recommendationEngine.automate()"
      ],
      "metadata": {
        "id": "ip84y7blObDE",
        "colab": {
          "base_uri": "https://localhost:8080/"
        },
        "outputId": "99778db3-ba11-4056-de1d-54d86db9ab4d"
      },
      "execution_count": null,
      "outputs": [
        {
          "output_type": "stream",
          "name": "stdout",
          "text": [
            "RECOMMENDATION ENGINE CALLED\n",
            "\n",
            "Shape of Movie dataframe is 5278 rows and 12 columns\n",
            "\n",
            "Few statistics about the columns of the Movie Dataset are\n",
            "         count unique                           top  freq\n",
            "title     5278   5278                       Sankofa     1\n",
            "director  5278   3830                           NaN    92\n",
            "cast      5278   5139                   Samuel West    10\n",
            "country   5278    597                 United States  1861\n",
            "genre     5278    270  Dramas, International Movies   337\n",
            "rating    5278     15                         TV-MA  1776\n",
            "type      5278      1                         Movie  5278\n",
            "\n",
            "Shape of TV Show dataframe is 2015 rows and 12 columns\n",
            "\n",
            "Few statistics about the columns of the TV Show Dataset are\n",
            "         count unique                 top  freq\n",
            "title     2015   2015       Blood & Water     1\n",
            "director  2015    142                 NaN  1868\n",
            "cast      2015   1982  David Attenborough    14\n",
            "country   2015    184       United States   618\n",
            "genre     2015    219            Kids' TV   161\n",
            "rating    2015     10               TV-MA   881\n",
            "type      2015      1             TV Show  2015\n",
            "\n",
            "Removed Stopwords and Special Characters from Movies Dataset\n",
            "Removed Stopwords and Special Characters from TV Show Dataset\n",
            "\n",
            "\n",
            "Vectorized country column of Movie dataset\n",
            "Vectorized director column of Movie dataset\n",
            "Vectorized cast column of Movie dataset\n",
            "Vectorized genre column of Movie dataset\n",
            "Vectorized country column of TV Show dataset\n",
            "Vectorized cast column of TV Show dataset\n",
            "Vectorized genre column of TV Show dataset\n",
            "\n",
            "\n",
            "Converting Movies data to Binary\n",
            "Converted\n",
            "\n",
            "Calculating Cosine Similarity of Movie data\n",
            "Cosine Similarity Calculated\n",
            "\n",
            "Converting TV Show data to Binary\n",
            "Converted\n",
            "\n",
            "Calculating Cosine Similarity of TV Show data\n",
            "Cosine Similarity Calculated\n",
            "\n",
            "RECOMENDATION ENGINE CREATED\n",
            "\n",
            "USE engine.recommedation(\"title\",df_movies,df_tv,movie_sim,tv_sim) TO GET RECOMMENDATIONS IN TABULAR FORM USING PANDAS\n",
            "\n",
            "USE engine.table(engine.recommedation(\"title\",df_movies,df_tv,movie_sim,tv_sim)) TO GET RECOMMENDATIONS IN TABULAR FORM USING PLOTLY\n",
            "\n"
          ]
        }
      ]
    },
    {
      "cell_type": "code",
      "source": [
        "engine.table(engine.recommedation('Coffee & Kareem',df_movies,df_tv,movie_sim,tv_sim))"
      ],
      "metadata": {
        "colab": {
          "base_uri": "https://localhost:8080/",
          "height": 717
        },
        "id": "cgWOvA6W97yh",
        "outputId": "efc8a319-eec9-4c6d-e51e-62d91952eb77"
      },
      "execution_count": 51,
      "outputs": [
        {
          "output_type": "display_data",
          "data": {
            "application/vnd.plotly.v1+json": {
              "data": [
                {
                  "cells": {
                    "align": "left",
                    "fill": {
                      "color": "#FFB3B2"
                    },
                    "font": {
                      "color": "black",
                      "family": "Lato",
                      "size": 16
                    },
                    "values": [
                      [
                        "Movie",
                        "Movie",
                        "Movie",
                        "Movie",
                        "Movie"
                      ],
                      [
                        "The Legacy of a Whitetail Deer Hunter",
                        "The Paper Tigers",
                        "Spenser Confidential",
                        "The Last Boy Scout",
                        "Due Date"
                      ],
                      [
                        "United States",
                        "United States",
                        "United States",
                        "United States",
                        "United States"
                      ],
                      [
                        "Action & Adventure, Comedies, Dramas",
                        "Action & Adventure, Comedies",
                        "Action & Adventure, Comedies",
                        "Action & Adventure, Comedies",
                        "Action & Adventure, Comedies"
                      ],
                      [
                        "A star of hunting videos strives to bond with his 12-year-old son on a wilderness trip but learns familial connections can't be forced.",
                        "After reuniting as middle-aged men, three kung-fu prodigies must set their differences aside and dust off their skills to avenge their beloved mentor.",
                        "Spenser, an ex-cop and ex-con, teams up with aspiring fighter Hawk to uncover a sinister conspiracy tied to the deaths of two Boston police officers.",
                        "Private eye Joe Hallenbeck is forced to team up with a disgraced quarterback to uncover a conspiracy by a politician and a football team owner.",
                        "Days before his pregnant wife's due date, Peter lands on the \"no-fly\" list, forcing him to drive across the country with an irritating slacker."
                      ]
                    ]
                  },
                  "columnorder": [
                    1,
                    2,
                    3,
                    4,
                    5
                  ],
                  "columnwidth": [
                    20,
                    20,
                    20,
                    30,
                    50
                  ],
                  "header": {
                    "align": "center",
                    "fill": {
                      "color": "#FF6865"
                    },
                    "font": {
                      "color": "black",
                      "family": "Gravitas One",
                      "size": 20
                    },
                    "height": 40,
                    "line": {
                      "color": "black"
                    },
                    "values": [
                      "Type",
                      "Title",
                      "Country",
                      "Genre(s)",
                      "Description"
                    ]
                  },
                  "type": "table"
                }
              ],
              "layout": {
                "template": {
                  "data": {
                    "histogram2dcontour": [
                      {
                        "type": "histogram2dcontour",
                        "colorbar": {
                          "outlinewidth": 0,
                          "ticks": ""
                        },
                        "colorscale": [
                          [
                            0,
                            "#0d0887"
                          ],
                          [
                            0.1111111111111111,
                            "#46039f"
                          ],
                          [
                            0.2222222222222222,
                            "#7201a8"
                          ],
                          [
                            0.3333333333333333,
                            "#9c179e"
                          ],
                          [
                            0.4444444444444444,
                            "#bd3786"
                          ],
                          [
                            0.5555555555555556,
                            "#d8576b"
                          ],
                          [
                            0.6666666666666666,
                            "#ed7953"
                          ],
                          [
                            0.7777777777777778,
                            "#fb9f3a"
                          ],
                          [
                            0.8888888888888888,
                            "#fdca26"
                          ],
                          [
                            1,
                            "#f0f921"
                          ]
                        ]
                      }
                    ],
                    "choropleth": [
                      {
                        "type": "choropleth",
                        "colorbar": {
                          "outlinewidth": 0,
                          "ticks": ""
                        }
                      }
                    ],
                    "histogram2d": [
                      {
                        "type": "histogram2d",
                        "colorbar": {
                          "outlinewidth": 0,
                          "ticks": ""
                        },
                        "colorscale": [
                          [
                            0,
                            "#0d0887"
                          ],
                          [
                            0.1111111111111111,
                            "#46039f"
                          ],
                          [
                            0.2222222222222222,
                            "#7201a8"
                          ],
                          [
                            0.3333333333333333,
                            "#9c179e"
                          ],
                          [
                            0.4444444444444444,
                            "#bd3786"
                          ],
                          [
                            0.5555555555555556,
                            "#d8576b"
                          ],
                          [
                            0.6666666666666666,
                            "#ed7953"
                          ],
                          [
                            0.7777777777777778,
                            "#fb9f3a"
                          ],
                          [
                            0.8888888888888888,
                            "#fdca26"
                          ],
                          [
                            1,
                            "#f0f921"
                          ]
                        ]
                      }
                    ],
                    "heatmap": [
                      {
                        "type": "heatmap",
                        "colorbar": {
                          "outlinewidth": 0,
                          "ticks": ""
                        },
                        "colorscale": [
                          [
                            0,
                            "#0d0887"
                          ],
                          [
                            0.1111111111111111,
                            "#46039f"
                          ],
                          [
                            0.2222222222222222,
                            "#7201a8"
                          ],
                          [
                            0.3333333333333333,
                            "#9c179e"
                          ],
                          [
                            0.4444444444444444,
                            "#bd3786"
                          ],
                          [
                            0.5555555555555556,
                            "#d8576b"
                          ],
                          [
                            0.6666666666666666,
                            "#ed7953"
                          ],
                          [
                            0.7777777777777778,
                            "#fb9f3a"
                          ],
                          [
                            0.8888888888888888,
                            "#fdca26"
                          ],
                          [
                            1,
                            "#f0f921"
                          ]
                        ]
                      }
                    ],
                    "heatmapgl": [
                      {
                        "type": "heatmapgl",
                        "colorbar": {
                          "outlinewidth": 0,
                          "ticks": ""
                        },
                        "colorscale": [
                          [
                            0,
                            "#0d0887"
                          ],
                          [
                            0.1111111111111111,
                            "#46039f"
                          ],
                          [
                            0.2222222222222222,
                            "#7201a8"
                          ],
                          [
                            0.3333333333333333,
                            "#9c179e"
                          ],
                          [
                            0.4444444444444444,
                            "#bd3786"
                          ],
                          [
                            0.5555555555555556,
                            "#d8576b"
                          ],
                          [
                            0.6666666666666666,
                            "#ed7953"
                          ],
                          [
                            0.7777777777777778,
                            "#fb9f3a"
                          ],
                          [
                            0.8888888888888888,
                            "#fdca26"
                          ],
                          [
                            1,
                            "#f0f921"
                          ]
                        ]
                      }
                    ],
                    "contourcarpet": [
                      {
                        "type": "contourcarpet",
                        "colorbar": {
                          "outlinewidth": 0,
                          "ticks": ""
                        }
                      }
                    ],
                    "contour": [
                      {
                        "type": "contour",
                        "colorbar": {
                          "outlinewidth": 0,
                          "ticks": ""
                        },
                        "colorscale": [
                          [
                            0,
                            "#0d0887"
                          ],
                          [
                            0.1111111111111111,
                            "#46039f"
                          ],
                          [
                            0.2222222222222222,
                            "#7201a8"
                          ],
                          [
                            0.3333333333333333,
                            "#9c179e"
                          ],
                          [
                            0.4444444444444444,
                            "#bd3786"
                          ],
                          [
                            0.5555555555555556,
                            "#d8576b"
                          ],
                          [
                            0.6666666666666666,
                            "#ed7953"
                          ],
                          [
                            0.7777777777777778,
                            "#fb9f3a"
                          ],
                          [
                            0.8888888888888888,
                            "#fdca26"
                          ],
                          [
                            1,
                            "#f0f921"
                          ]
                        ]
                      }
                    ],
                    "surface": [
                      {
                        "type": "surface",
                        "colorbar": {
                          "outlinewidth": 0,
                          "ticks": ""
                        },
                        "colorscale": [
                          [
                            0,
                            "#0d0887"
                          ],
                          [
                            0.1111111111111111,
                            "#46039f"
                          ],
                          [
                            0.2222222222222222,
                            "#7201a8"
                          ],
                          [
                            0.3333333333333333,
                            "#9c179e"
                          ],
                          [
                            0.4444444444444444,
                            "#bd3786"
                          ],
                          [
                            0.5555555555555556,
                            "#d8576b"
                          ],
                          [
                            0.6666666666666666,
                            "#ed7953"
                          ],
                          [
                            0.7777777777777778,
                            "#fb9f3a"
                          ],
                          [
                            0.8888888888888888,
                            "#fdca26"
                          ],
                          [
                            1,
                            "#f0f921"
                          ]
                        ]
                      }
                    ],
                    "mesh3d": [
                      {
                        "type": "mesh3d",
                        "colorbar": {
                          "outlinewidth": 0,
                          "ticks": ""
                        }
                      }
                    ],
                    "scatter": [
                      {
                        "fillpattern": {
                          "fillmode": "overlay",
                          "size": 10,
                          "solidity": 0.2
                        },
                        "type": "scatter"
                      }
                    ],
                    "parcoords": [
                      {
                        "type": "parcoords",
                        "line": {
                          "colorbar": {
                            "outlinewidth": 0,
                            "ticks": ""
                          }
                        }
                      }
                    ],
                    "scatterpolargl": [
                      {
                        "type": "scatterpolargl",
                        "marker": {
                          "colorbar": {
                            "outlinewidth": 0,
                            "ticks": ""
                          }
                        }
                      }
                    ],
                    "bar": [
                      {
                        "error_x": {
                          "color": "#2a3f5f"
                        },
                        "error_y": {
                          "color": "#2a3f5f"
                        },
                        "marker": {
                          "line": {
                            "color": "#E5ECF6",
                            "width": 0.5
                          },
                          "pattern": {
                            "fillmode": "overlay",
                            "size": 10,
                            "solidity": 0.2
                          }
                        },
                        "type": "bar"
                      }
                    ],
                    "scattergeo": [
                      {
                        "type": "scattergeo",
                        "marker": {
                          "colorbar": {
                            "outlinewidth": 0,
                            "ticks": ""
                          }
                        }
                      }
                    ],
                    "scatterpolar": [
                      {
                        "type": "scatterpolar",
                        "marker": {
                          "colorbar": {
                            "outlinewidth": 0,
                            "ticks": ""
                          }
                        }
                      }
                    ],
                    "histogram": [
                      {
                        "marker": {
                          "pattern": {
                            "fillmode": "overlay",
                            "size": 10,
                            "solidity": 0.2
                          }
                        },
                        "type": "histogram"
                      }
                    ],
                    "scattergl": [
                      {
                        "type": "scattergl",
                        "marker": {
                          "colorbar": {
                            "outlinewidth": 0,
                            "ticks": ""
                          }
                        }
                      }
                    ],
                    "scatter3d": [
                      {
                        "type": "scatter3d",
                        "line": {
                          "colorbar": {
                            "outlinewidth": 0,
                            "ticks": ""
                          }
                        },
                        "marker": {
                          "colorbar": {
                            "outlinewidth": 0,
                            "ticks": ""
                          }
                        }
                      }
                    ],
                    "scattermapbox": [
                      {
                        "type": "scattermapbox",
                        "marker": {
                          "colorbar": {
                            "outlinewidth": 0,
                            "ticks": ""
                          }
                        }
                      }
                    ],
                    "scatterternary": [
                      {
                        "type": "scatterternary",
                        "marker": {
                          "colorbar": {
                            "outlinewidth": 0,
                            "ticks": ""
                          }
                        }
                      }
                    ],
                    "scattercarpet": [
                      {
                        "type": "scattercarpet",
                        "marker": {
                          "colorbar": {
                            "outlinewidth": 0,
                            "ticks": ""
                          }
                        }
                      }
                    ],
                    "carpet": [
                      {
                        "aaxis": {
                          "endlinecolor": "#2a3f5f",
                          "gridcolor": "white",
                          "linecolor": "white",
                          "minorgridcolor": "white",
                          "startlinecolor": "#2a3f5f"
                        },
                        "baxis": {
                          "endlinecolor": "#2a3f5f",
                          "gridcolor": "white",
                          "linecolor": "white",
                          "minorgridcolor": "white",
                          "startlinecolor": "#2a3f5f"
                        },
                        "type": "carpet"
                      }
                    ],
                    "table": [
                      {
                        "cells": {
                          "fill": {
                            "color": "#EBF0F8"
                          },
                          "line": {
                            "color": "white"
                          }
                        },
                        "header": {
                          "fill": {
                            "color": "#C8D4E3"
                          },
                          "line": {
                            "color": "white"
                          }
                        },
                        "type": "table"
                      }
                    ],
                    "barpolar": [
                      {
                        "marker": {
                          "line": {
                            "color": "#E5ECF6",
                            "width": 0.5
                          },
                          "pattern": {
                            "fillmode": "overlay",
                            "size": 10,
                            "solidity": 0.2
                          }
                        },
                        "type": "barpolar"
                      }
                    ],
                    "pie": [
                      {
                        "automargin": true,
                        "type": "pie"
                      }
                    ]
                  },
                  "layout": {
                    "autotypenumbers": "strict",
                    "colorway": [
                      "#636efa",
                      "#EF553B",
                      "#00cc96",
                      "#ab63fa",
                      "#FFA15A",
                      "#19d3f3",
                      "#FF6692",
                      "#B6E880",
                      "#FF97FF",
                      "#FECB52"
                    ],
                    "font": {
                      "color": "#2a3f5f"
                    },
                    "hovermode": "closest",
                    "hoverlabel": {
                      "align": "left"
                    },
                    "paper_bgcolor": "white",
                    "plot_bgcolor": "#E5ECF6",
                    "polar": {
                      "bgcolor": "#E5ECF6",
                      "angularaxis": {
                        "gridcolor": "white",
                        "linecolor": "white",
                        "ticks": ""
                      },
                      "radialaxis": {
                        "gridcolor": "white",
                        "linecolor": "white",
                        "ticks": ""
                      }
                    },
                    "ternary": {
                      "bgcolor": "#E5ECF6",
                      "aaxis": {
                        "gridcolor": "white",
                        "linecolor": "white",
                        "ticks": ""
                      },
                      "baxis": {
                        "gridcolor": "white",
                        "linecolor": "white",
                        "ticks": ""
                      },
                      "caxis": {
                        "gridcolor": "white",
                        "linecolor": "white",
                        "ticks": ""
                      }
                    },
                    "coloraxis": {
                      "colorbar": {
                        "outlinewidth": 0,
                        "ticks": ""
                      }
                    },
                    "colorscale": {
                      "sequential": [
                        [
                          0,
                          "#0d0887"
                        ],
                        [
                          0.1111111111111111,
                          "#46039f"
                        ],
                        [
                          0.2222222222222222,
                          "#7201a8"
                        ],
                        [
                          0.3333333333333333,
                          "#9c179e"
                        ],
                        [
                          0.4444444444444444,
                          "#bd3786"
                        ],
                        [
                          0.5555555555555556,
                          "#d8576b"
                        ],
                        [
                          0.6666666666666666,
                          "#ed7953"
                        ],
                        [
                          0.7777777777777778,
                          "#fb9f3a"
                        ],
                        [
                          0.8888888888888888,
                          "#fdca26"
                        ],
                        [
                          1,
                          "#f0f921"
                        ]
                      ],
                      "sequentialminus": [
                        [
                          0,
                          "#0d0887"
                        ],
                        [
                          0.1111111111111111,
                          "#46039f"
                        ],
                        [
                          0.2222222222222222,
                          "#7201a8"
                        ],
                        [
                          0.3333333333333333,
                          "#9c179e"
                        ],
                        [
                          0.4444444444444444,
                          "#bd3786"
                        ],
                        [
                          0.5555555555555556,
                          "#d8576b"
                        ],
                        [
                          0.6666666666666666,
                          "#ed7953"
                        ],
                        [
                          0.7777777777777778,
                          "#fb9f3a"
                        ],
                        [
                          0.8888888888888888,
                          "#fdca26"
                        ],
                        [
                          1,
                          "#f0f921"
                        ]
                      ],
                      "diverging": [
                        [
                          0,
                          "#8e0152"
                        ],
                        [
                          0.1,
                          "#c51b7d"
                        ],
                        [
                          0.2,
                          "#de77ae"
                        ],
                        [
                          0.3,
                          "#f1b6da"
                        ],
                        [
                          0.4,
                          "#fde0ef"
                        ],
                        [
                          0.5,
                          "#f7f7f7"
                        ],
                        [
                          0.6,
                          "#e6f5d0"
                        ],
                        [
                          0.7,
                          "#b8e186"
                        ],
                        [
                          0.8,
                          "#7fbc41"
                        ],
                        [
                          0.9,
                          "#4d9221"
                        ],
                        [
                          1,
                          "#276419"
                        ]
                      ]
                    },
                    "xaxis": {
                      "gridcolor": "white",
                      "linecolor": "white",
                      "ticks": "",
                      "title": {
                        "standoff": 15
                      },
                      "zerolinecolor": "white",
                      "automargin": true,
                      "zerolinewidth": 2
                    },
                    "yaxis": {
                      "gridcolor": "white",
                      "linecolor": "white",
                      "ticks": "",
                      "title": {
                        "standoff": 15
                      },
                      "zerolinecolor": "white",
                      "automargin": true,
                      "zerolinewidth": 2
                    },
                    "scene": {
                      "xaxis": {
                        "backgroundcolor": "#E5ECF6",
                        "gridcolor": "white",
                        "linecolor": "white",
                        "showbackground": true,
                        "ticks": "",
                        "zerolinecolor": "white",
                        "gridwidth": 2
                      },
                      "yaxis": {
                        "backgroundcolor": "#E5ECF6",
                        "gridcolor": "white",
                        "linecolor": "white",
                        "showbackground": true,
                        "ticks": "",
                        "zerolinecolor": "white",
                        "gridwidth": 2
                      },
                      "zaxis": {
                        "backgroundcolor": "#E5ECF6",
                        "gridcolor": "white",
                        "linecolor": "white",
                        "showbackground": true,
                        "ticks": "",
                        "zerolinecolor": "white",
                        "gridwidth": 2
                      }
                    },
                    "shapedefaults": {
                      "line": {
                        "color": "#2a3f5f"
                      }
                    },
                    "annotationdefaults": {
                      "arrowcolor": "#2a3f5f",
                      "arrowhead": 0,
                      "arrowwidth": 1
                    },
                    "geo": {
                      "bgcolor": "white",
                      "landcolor": "#E5ECF6",
                      "subunitcolor": "white",
                      "showland": true,
                      "showlakes": true,
                      "lakecolor": "white"
                    },
                    "title": {
                      "x": 0.05
                    },
                    "mapbox": {
                      "style": "light"
                    }
                  }
                },
                "title": {
                  "font": {
                    "size": 22,
                    "family": "Gravitas One"
                  },
                  "text": "Top Movie Recommendations",
                  "x": 0.5
                },
                "height": 700
              },
              "config": {
                "plotlyServerURL": "https://plot.ly"
              }
            },
            "text/html": [
              "<div>                            <div id=\"eb728e94-ef7c-46ac-ac1b-14f246118eab\" class=\"plotly-graph-div\" style=\"height:700px; width:100%;\"></div>            <script type=\"text/javascript\">                require([\"plotly\"], function(Plotly) {                    window.PLOTLYENV=window.PLOTLYENV || {};                                    if (document.getElementById(\"eb728e94-ef7c-46ac-ac1b-14f246118eab\")) {                    Plotly.newPlot(                        \"eb728e94-ef7c-46ac-ac1b-14f246118eab\",                        [{\"cells\":{\"align\":\"left\",\"fill\":{\"color\":\"#FFB3B2\"},\"font\":{\"color\":\"black\",\"family\":\"Lato\",\"size\":16},\"values\":[[\"Movie\",\"Movie\",\"Movie\",\"Movie\",\"Movie\"],[\"The Legacy of a Whitetail Deer Hunter\",\"The Paper Tigers\",\"Spenser Confidential\",\"The Last Boy Scout\",\"Due Date\"],[\"United States\",\"United States\",\"United States\",\"United States\",\"United States\"],[\"Action & Adventure, Comedies, Dramas\",\"Action & Adventure, Comedies\",\"Action & Adventure, Comedies\",\"Action & Adventure, Comedies\",\"Action & Adventure, Comedies\"],[\"A star of hunting videos strives to bond with his 12-year-old son on a wilderness trip but learns familial connections can't be forced.\",\"After reuniting as middle-aged men, three kung-fu prodigies must set their differences aside and dust off their skills to avenge their beloved mentor.\",\"Spenser, an ex-cop and ex-con, teams up with aspiring fighter Hawk to uncover a sinister conspiracy tied to the deaths of two Boston police officers.\",\"Private eye Joe Hallenbeck is forced to team up with a disgraced quarterback to uncover a conspiracy by a politician and a football team owner.\",\"Days before his pregnant wife's due date, Peter lands on the \\\"no-fly\\\" list, forcing him to drive across the country with an irritating slacker.\"]]},\"columnorder\":[1,2,3,4,5],\"columnwidth\":[20,20,20,30,50],\"header\":{\"align\":\"center\",\"fill\":{\"color\":\"#FF6865\"},\"font\":{\"color\":\"black\",\"family\":\"Gravitas One\",\"size\":20},\"height\":40,\"line\":{\"color\":\"black\"},\"values\":[\"Type\",\"Title\",\"Country\",\"Genre(s)\",\"Description\"]},\"type\":\"table\"}],                        {\"template\":{\"data\":{\"histogram2dcontour\":[{\"type\":\"histogram2dcontour\",\"colorbar\":{\"outlinewidth\":0,\"ticks\":\"\"},\"colorscale\":[[0.0,\"#0d0887\"],[0.1111111111111111,\"#46039f\"],[0.2222222222222222,\"#7201a8\"],[0.3333333333333333,\"#9c179e\"],[0.4444444444444444,\"#bd3786\"],[0.5555555555555556,\"#d8576b\"],[0.6666666666666666,\"#ed7953\"],[0.7777777777777778,\"#fb9f3a\"],[0.8888888888888888,\"#fdca26\"],[1.0,\"#f0f921\"]]}],\"choropleth\":[{\"type\":\"choropleth\",\"colorbar\":{\"outlinewidth\":0,\"ticks\":\"\"}}],\"histogram2d\":[{\"type\":\"histogram2d\",\"colorbar\":{\"outlinewidth\":0,\"ticks\":\"\"},\"colorscale\":[[0.0,\"#0d0887\"],[0.1111111111111111,\"#46039f\"],[0.2222222222222222,\"#7201a8\"],[0.3333333333333333,\"#9c179e\"],[0.4444444444444444,\"#bd3786\"],[0.5555555555555556,\"#d8576b\"],[0.6666666666666666,\"#ed7953\"],[0.7777777777777778,\"#fb9f3a\"],[0.8888888888888888,\"#fdca26\"],[1.0,\"#f0f921\"]]}],\"heatmap\":[{\"type\":\"heatmap\",\"colorbar\":{\"outlinewidth\":0,\"ticks\":\"\"},\"colorscale\":[[0.0,\"#0d0887\"],[0.1111111111111111,\"#46039f\"],[0.2222222222222222,\"#7201a8\"],[0.3333333333333333,\"#9c179e\"],[0.4444444444444444,\"#bd3786\"],[0.5555555555555556,\"#d8576b\"],[0.6666666666666666,\"#ed7953\"],[0.7777777777777778,\"#fb9f3a\"],[0.8888888888888888,\"#fdca26\"],[1.0,\"#f0f921\"]]}],\"heatmapgl\":[{\"type\":\"heatmapgl\",\"colorbar\":{\"outlinewidth\":0,\"ticks\":\"\"},\"colorscale\":[[0.0,\"#0d0887\"],[0.1111111111111111,\"#46039f\"],[0.2222222222222222,\"#7201a8\"],[0.3333333333333333,\"#9c179e\"],[0.4444444444444444,\"#bd3786\"],[0.5555555555555556,\"#d8576b\"],[0.6666666666666666,\"#ed7953\"],[0.7777777777777778,\"#fb9f3a\"],[0.8888888888888888,\"#fdca26\"],[1.0,\"#f0f921\"]]}],\"contourcarpet\":[{\"type\":\"contourcarpet\",\"colorbar\":{\"outlinewidth\":0,\"ticks\":\"\"}}],\"contour\":[{\"type\":\"contour\",\"colorbar\":{\"outlinewidth\":0,\"ticks\":\"\"},\"colorscale\":[[0.0,\"#0d0887\"],[0.1111111111111111,\"#46039f\"],[0.2222222222222222,\"#7201a8\"],[0.3333333333333333,\"#9c179e\"],[0.4444444444444444,\"#bd3786\"],[0.5555555555555556,\"#d8576b\"],[0.6666666666666666,\"#ed7953\"],[0.7777777777777778,\"#fb9f3a\"],[0.8888888888888888,\"#fdca26\"],[1.0,\"#f0f921\"]]}],\"surface\":[{\"type\":\"surface\",\"colorbar\":{\"outlinewidth\":0,\"ticks\":\"\"},\"colorscale\":[[0.0,\"#0d0887\"],[0.1111111111111111,\"#46039f\"],[0.2222222222222222,\"#7201a8\"],[0.3333333333333333,\"#9c179e\"],[0.4444444444444444,\"#bd3786\"],[0.5555555555555556,\"#d8576b\"],[0.6666666666666666,\"#ed7953\"],[0.7777777777777778,\"#fb9f3a\"],[0.8888888888888888,\"#fdca26\"],[1.0,\"#f0f921\"]]}],\"mesh3d\":[{\"type\":\"mesh3d\",\"colorbar\":{\"outlinewidth\":0,\"ticks\":\"\"}}],\"scatter\":[{\"fillpattern\":{\"fillmode\":\"overlay\",\"size\":10,\"solidity\":0.2},\"type\":\"scatter\"}],\"parcoords\":[{\"type\":\"parcoords\",\"line\":{\"colorbar\":{\"outlinewidth\":0,\"ticks\":\"\"}}}],\"scatterpolargl\":[{\"type\":\"scatterpolargl\",\"marker\":{\"colorbar\":{\"outlinewidth\":0,\"ticks\":\"\"}}}],\"bar\":[{\"error_x\":{\"color\":\"#2a3f5f\"},\"error_y\":{\"color\":\"#2a3f5f\"},\"marker\":{\"line\":{\"color\":\"#E5ECF6\",\"width\":0.5},\"pattern\":{\"fillmode\":\"overlay\",\"size\":10,\"solidity\":0.2}},\"type\":\"bar\"}],\"scattergeo\":[{\"type\":\"scattergeo\",\"marker\":{\"colorbar\":{\"outlinewidth\":0,\"ticks\":\"\"}}}],\"scatterpolar\":[{\"type\":\"scatterpolar\",\"marker\":{\"colorbar\":{\"outlinewidth\":0,\"ticks\":\"\"}}}],\"histogram\":[{\"marker\":{\"pattern\":{\"fillmode\":\"overlay\",\"size\":10,\"solidity\":0.2}},\"type\":\"histogram\"}],\"scattergl\":[{\"type\":\"scattergl\",\"marker\":{\"colorbar\":{\"outlinewidth\":0,\"ticks\":\"\"}}}],\"scatter3d\":[{\"type\":\"scatter3d\",\"line\":{\"colorbar\":{\"outlinewidth\":0,\"ticks\":\"\"}},\"marker\":{\"colorbar\":{\"outlinewidth\":0,\"ticks\":\"\"}}}],\"scattermapbox\":[{\"type\":\"scattermapbox\",\"marker\":{\"colorbar\":{\"outlinewidth\":0,\"ticks\":\"\"}}}],\"scatterternary\":[{\"type\":\"scatterternary\",\"marker\":{\"colorbar\":{\"outlinewidth\":0,\"ticks\":\"\"}}}],\"scattercarpet\":[{\"type\":\"scattercarpet\",\"marker\":{\"colorbar\":{\"outlinewidth\":0,\"ticks\":\"\"}}}],\"carpet\":[{\"aaxis\":{\"endlinecolor\":\"#2a3f5f\",\"gridcolor\":\"white\",\"linecolor\":\"white\",\"minorgridcolor\":\"white\",\"startlinecolor\":\"#2a3f5f\"},\"baxis\":{\"endlinecolor\":\"#2a3f5f\",\"gridcolor\":\"white\",\"linecolor\":\"white\",\"minorgridcolor\":\"white\",\"startlinecolor\":\"#2a3f5f\"},\"type\":\"carpet\"}],\"table\":[{\"cells\":{\"fill\":{\"color\":\"#EBF0F8\"},\"line\":{\"color\":\"white\"}},\"header\":{\"fill\":{\"color\":\"#C8D4E3\"},\"line\":{\"color\":\"white\"}},\"type\":\"table\"}],\"barpolar\":[{\"marker\":{\"line\":{\"color\":\"#E5ECF6\",\"width\":0.5},\"pattern\":{\"fillmode\":\"overlay\",\"size\":10,\"solidity\":0.2}},\"type\":\"barpolar\"}],\"pie\":[{\"automargin\":true,\"type\":\"pie\"}]},\"layout\":{\"autotypenumbers\":\"strict\",\"colorway\":[\"#636efa\",\"#EF553B\",\"#00cc96\",\"#ab63fa\",\"#FFA15A\",\"#19d3f3\",\"#FF6692\",\"#B6E880\",\"#FF97FF\",\"#FECB52\"],\"font\":{\"color\":\"#2a3f5f\"},\"hovermode\":\"closest\",\"hoverlabel\":{\"align\":\"left\"},\"paper_bgcolor\":\"white\",\"plot_bgcolor\":\"#E5ECF6\",\"polar\":{\"bgcolor\":\"#E5ECF6\",\"angularaxis\":{\"gridcolor\":\"white\",\"linecolor\":\"white\",\"ticks\":\"\"},\"radialaxis\":{\"gridcolor\":\"white\",\"linecolor\":\"white\",\"ticks\":\"\"}},\"ternary\":{\"bgcolor\":\"#E5ECF6\",\"aaxis\":{\"gridcolor\":\"white\",\"linecolor\":\"white\",\"ticks\":\"\"},\"baxis\":{\"gridcolor\":\"white\",\"linecolor\":\"white\",\"ticks\":\"\"},\"caxis\":{\"gridcolor\":\"white\",\"linecolor\":\"white\",\"ticks\":\"\"}},\"coloraxis\":{\"colorbar\":{\"outlinewidth\":0,\"ticks\":\"\"}},\"colorscale\":{\"sequential\":[[0.0,\"#0d0887\"],[0.1111111111111111,\"#46039f\"],[0.2222222222222222,\"#7201a8\"],[0.3333333333333333,\"#9c179e\"],[0.4444444444444444,\"#bd3786\"],[0.5555555555555556,\"#d8576b\"],[0.6666666666666666,\"#ed7953\"],[0.7777777777777778,\"#fb9f3a\"],[0.8888888888888888,\"#fdca26\"],[1.0,\"#f0f921\"]],\"sequentialminus\":[[0.0,\"#0d0887\"],[0.1111111111111111,\"#46039f\"],[0.2222222222222222,\"#7201a8\"],[0.3333333333333333,\"#9c179e\"],[0.4444444444444444,\"#bd3786\"],[0.5555555555555556,\"#d8576b\"],[0.6666666666666666,\"#ed7953\"],[0.7777777777777778,\"#fb9f3a\"],[0.8888888888888888,\"#fdca26\"],[1.0,\"#f0f921\"]],\"diverging\":[[0,\"#8e0152\"],[0.1,\"#c51b7d\"],[0.2,\"#de77ae\"],[0.3,\"#f1b6da\"],[0.4,\"#fde0ef\"],[0.5,\"#f7f7f7\"],[0.6,\"#e6f5d0\"],[0.7,\"#b8e186\"],[0.8,\"#7fbc41\"],[0.9,\"#4d9221\"],[1,\"#276419\"]]},\"xaxis\":{\"gridcolor\":\"white\",\"linecolor\":\"white\",\"ticks\":\"\",\"title\":{\"standoff\":15},\"zerolinecolor\":\"white\",\"automargin\":true,\"zerolinewidth\":2},\"yaxis\":{\"gridcolor\":\"white\",\"linecolor\":\"white\",\"ticks\":\"\",\"title\":{\"standoff\":15},\"zerolinecolor\":\"white\",\"automargin\":true,\"zerolinewidth\":2},\"scene\":{\"xaxis\":{\"backgroundcolor\":\"#E5ECF6\",\"gridcolor\":\"white\",\"linecolor\":\"white\",\"showbackground\":true,\"ticks\":\"\",\"zerolinecolor\":\"white\",\"gridwidth\":2},\"yaxis\":{\"backgroundcolor\":\"#E5ECF6\",\"gridcolor\":\"white\",\"linecolor\":\"white\",\"showbackground\":true,\"ticks\":\"\",\"zerolinecolor\":\"white\",\"gridwidth\":2},\"zaxis\":{\"backgroundcolor\":\"#E5ECF6\",\"gridcolor\":\"white\",\"linecolor\":\"white\",\"showbackground\":true,\"ticks\":\"\",\"zerolinecolor\":\"white\",\"gridwidth\":2}},\"shapedefaults\":{\"line\":{\"color\":\"#2a3f5f\"}},\"annotationdefaults\":{\"arrowcolor\":\"#2a3f5f\",\"arrowhead\":0,\"arrowwidth\":1},\"geo\":{\"bgcolor\":\"white\",\"landcolor\":\"#E5ECF6\",\"subunitcolor\":\"white\",\"showland\":true,\"showlakes\":true,\"lakecolor\":\"white\"},\"title\":{\"x\":0.05},\"mapbox\":{\"style\":\"light\"}}},\"title\":{\"font\":{\"size\":22,\"family\":\"Gravitas One\"},\"text\":\"Top Movie Recommendations\",\"x\":0.5},\"height\":700},                        {\"responsive\": true}                    ).then(function(){\n",
              "                            \n",
              "var gd = document.getElementById('eb728e94-ef7c-46ac-ac1b-14f246118eab');\n",
              "var x = new MutationObserver(function (mutations, observer) {{\n",
              "        var display = window.getComputedStyle(gd).display;\n",
              "        if (!display || display === 'none') {{\n",
              "            console.log([gd, 'removed!']);\n",
              "            Plotly.purge(gd);\n",
              "            observer.disconnect();\n",
              "        }}\n",
              "}});\n",
              "\n",
              "// Listen for the removal of the full notebook cells\n",
              "var notebookContainer = gd.closest('#notebook-container');\n",
              "if (notebookContainer) {{\n",
              "    x.observe(notebookContainer, {childList: true});\n",
              "}}\n",
              "\n",
              "// Listen for the clearing of the current output cell\n",
              "var outputEl = gd.closest('.output');\n",
              "if (outputEl) {{\n",
              "    x.observe(outputEl, {childList: true});\n",
              "}}\n",
              "\n",
              "                        })                };                });            </script>        </div>"
            ]
          },
          "metadata": {}
        }
      ]
    },
    {
      "cell_type": "code",
      "source": [
        "engine.recommedation('The Paper Tigers',df_movies,df_tv,movie_sim,tv_sim)"
      ],
      "metadata": {
        "colab": {
          "base_uri": "https://localhost:8080/",
          "height": 293
        },
        "id": "6KNH7E0RFqfu",
        "outputId": "d2f7b7ca-b79f-4bbc-dcd9-11f9c1e91718"
      },
      "execution_count": null,
      "outputs": [
        {
          "output_type": "execute_result",
          "data": {
            "text/plain": [
              "  show_id   type                                  title       director  \\\n",
              "1   s2710  Movie                        Coffee & Kareem  Michael Dowse   \n",
              "2   s4783  Movie  The Legacy of a Whitetail Deer Hunter      Jody Hill   \n",
              "3   s2837  Movie                   Spenser Confidential     Peter Berg   \n",
              "4    s355  Movie                     The Last Boy Scout     Tony Scott   \n",
              "5    s931  Movie                               Due Date  Todd Phillips   \n",
              "\n",
              "                                                cast        country  \\\n",
              "1  Ed Helms, Taraji P. Henson, Terrence Little Ga...  United States   \n",
              "2  Josh Brolin, Danny McBride, Montana Jordan, Sc...  United States   \n",
              "3  Mark Wahlberg, Winston Duke, Alan Arkin, Bokee...  United States   \n",
              "4  Bruce Willis, Damon Wayans, Chelsea Field, Nob...  United States   \n",
              "5  Robert Downey Jr., Zach Galifianakis, Michelle...  United States   \n",
              "\n",
              "       date_added  release_year rating duration  \\\n",
              "1   April 3, 2020          2020  TV-MA   88 min   \n",
              "2    July 6, 2018          2018  TV-14   83 min   \n",
              "3   March 6, 2020          2020      R  111 min   \n",
              "4  August 1, 2021          1991      R  105 min   \n",
              "5     May 1, 2021          2010      R   95 min   \n",
              "\n",
              "                                  genre  \\\n",
              "1          Action & Adventure, Comedies   \n",
              "2  Action & Adventure, Comedies, Dramas   \n",
              "3          Action & Adventure, Comedies   \n",
              "4          Action & Adventure, Comedies   \n",
              "5          Action & Adventure, Comedies   \n",
              "\n",
              "                                         description  similarity  \n",
              "1  An inept Detroit cop must team up with his gir...    0.384900  \n",
              "2  A star of hunting videos strives to bond with ...    0.348155  \n",
              "3  Spenser, an ex-cop and ex-con, teams up with a...    0.333333  \n",
              "4  Private eye Joe Hallenbeck is forced to team u...    0.320256  \n",
              "5  Days before his pregnant wife's due date, Pete...    0.320256  "
            ],
            "text/html": [
              "\n",
              "  <div id=\"df-9ee48ad4-04f5-4d20-8384-57d1e45f7e19\" class=\"colab-df-container\">\n",
              "    <div>\n",
              "<style scoped>\n",
              "    .dataframe tbody tr th:only-of-type {\n",
              "        vertical-align: middle;\n",
              "    }\n",
              "\n",
              "    .dataframe tbody tr th {\n",
              "        vertical-align: top;\n",
              "    }\n",
              "\n",
              "    .dataframe thead th {\n",
              "        text-align: right;\n",
              "    }\n",
              "</style>\n",
              "<table border=\"1\" class=\"dataframe\">\n",
              "  <thead>\n",
              "    <tr style=\"text-align: right;\">\n",
              "      <th></th>\n",
              "      <th>show_id</th>\n",
              "      <th>type</th>\n",
              "      <th>title</th>\n",
              "      <th>director</th>\n",
              "      <th>cast</th>\n",
              "      <th>country</th>\n",
              "      <th>date_added</th>\n",
              "      <th>release_year</th>\n",
              "      <th>rating</th>\n",
              "      <th>duration</th>\n",
              "      <th>genre</th>\n",
              "      <th>description</th>\n",
              "      <th>similarity</th>\n",
              "    </tr>\n",
              "  </thead>\n",
              "  <tbody>\n",
              "    <tr>\n",
              "      <th>1</th>\n",
              "      <td>s2710</td>\n",
              "      <td>Movie</td>\n",
              "      <td>Coffee &amp; Kareem</td>\n",
              "      <td>Michael Dowse</td>\n",
              "      <td>Ed Helms, Taraji P. Henson, Terrence Little Ga...</td>\n",
              "      <td>United States</td>\n",
              "      <td>April 3, 2020</td>\n",
              "      <td>2020</td>\n",
              "      <td>TV-MA</td>\n",
              "      <td>88 min</td>\n",
              "      <td>Action &amp; Adventure, Comedies</td>\n",
              "      <td>An inept Detroit cop must team up with his gir...</td>\n",
              "      <td>0.384900</td>\n",
              "    </tr>\n",
              "    <tr>\n",
              "      <th>2</th>\n",
              "      <td>s4783</td>\n",
              "      <td>Movie</td>\n",
              "      <td>The Legacy of a Whitetail Deer Hunter</td>\n",
              "      <td>Jody Hill</td>\n",
              "      <td>Josh Brolin, Danny McBride, Montana Jordan, Sc...</td>\n",
              "      <td>United States</td>\n",
              "      <td>July 6, 2018</td>\n",
              "      <td>2018</td>\n",
              "      <td>TV-14</td>\n",
              "      <td>83 min</td>\n",
              "      <td>Action &amp; Adventure, Comedies, Dramas</td>\n",
              "      <td>A star of hunting videos strives to bond with ...</td>\n",
              "      <td>0.348155</td>\n",
              "    </tr>\n",
              "    <tr>\n",
              "      <th>3</th>\n",
              "      <td>s2837</td>\n",
              "      <td>Movie</td>\n",
              "      <td>Spenser Confidential</td>\n",
              "      <td>Peter Berg</td>\n",
              "      <td>Mark Wahlberg, Winston Duke, Alan Arkin, Bokee...</td>\n",
              "      <td>United States</td>\n",
              "      <td>March 6, 2020</td>\n",
              "      <td>2020</td>\n",
              "      <td>R</td>\n",
              "      <td>111 min</td>\n",
              "      <td>Action &amp; Adventure, Comedies</td>\n",
              "      <td>Spenser, an ex-cop and ex-con, teams up with a...</td>\n",
              "      <td>0.333333</td>\n",
              "    </tr>\n",
              "    <tr>\n",
              "      <th>4</th>\n",
              "      <td>s355</td>\n",
              "      <td>Movie</td>\n",
              "      <td>The Last Boy Scout</td>\n",
              "      <td>Tony Scott</td>\n",
              "      <td>Bruce Willis, Damon Wayans, Chelsea Field, Nob...</td>\n",
              "      <td>United States</td>\n",
              "      <td>August 1, 2021</td>\n",
              "      <td>1991</td>\n",
              "      <td>R</td>\n",
              "      <td>105 min</td>\n",
              "      <td>Action &amp; Adventure, Comedies</td>\n",
              "      <td>Private eye Joe Hallenbeck is forced to team u...</td>\n",
              "      <td>0.320256</td>\n",
              "    </tr>\n",
              "    <tr>\n",
              "      <th>5</th>\n",
              "      <td>s931</td>\n",
              "      <td>Movie</td>\n",
              "      <td>Due Date</td>\n",
              "      <td>Todd Phillips</td>\n",
              "      <td>Robert Downey Jr., Zach Galifianakis, Michelle...</td>\n",
              "      <td>United States</td>\n",
              "      <td>May 1, 2021</td>\n",
              "      <td>2010</td>\n",
              "      <td>R</td>\n",
              "      <td>95 min</td>\n",
              "      <td>Action &amp; Adventure, Comedies</td>\n",
              "      <td>Days before his pregnant wife's due date, Pete...</td>\n",
              "      <td>0.320256</td>\n",
              "    </tr>\n",
              "  </tbody>\n",
              "</table>\n",
              "</div>\n",
              "    <div class=\"colab-df-buttons\">\n",
              "\n",
              "  <div class=\"colab-df-container\">\n",
              "    <button class=\"colab-df-convert\" onclick=\"convertToInteractive('df-9ee48ad4-04f5-4d20-8384-57d1e45f7e19')\"\n",
              "            title=\"Convert this dataframe to an interactive table.\"\n",
              "            style=\"display:none;\">\n",
              "\n",
              "  <svg xmlns=\"http://www.w3.org/2000/svg\" height=\"24px\" viewBox=\"0 -960 960 960\">\n",
              "    <path d=\"M120-120v-720h720v720H120Zm60-500h600v-160H180v160Zm220 220h160v-160H400v160Zm0 220h160v-160H400v160ZM180-400h160v-160H180v160Zm440 0h160v-160H620v160ZM180-180h160v-160H180v160Zm440 0h160v-160H620v160Z\"/>\n",
              "  </svg>\n",
              "    </button>\n",
              "\n",
              "  <style>\n",
              "    .colab-df-container {\n",
              "      display:flex;\n",
              "      gap: 12px;\n",
              "    }\n",
              "\n",
              "    .colab-df-convert {\n",
              "      background-color: #E8F0FE;\n",
              "      border: none;\n",
              "      border-radius: 50%;\n",
              "      cursor: pointer;\n",
              "      display: none;\n",
              "      fill: #1967D2;\n",
              "      height: 32px;\n",
              "      padding: 0 0 0 0;\n",
              "      width: 32px;\n",
              "    }\n",
              "\n",
              "    .colab-df-convert:hover {\n",
              "      background-color: #E2EBFA;\n",
              "      box-shadow: 0px 1px 2px rgba(60, 64, 67, 0.3), 0px 1px 3px 1px rgba(60, 64, 67, 0.15);\n",
              "      fill: #174EA6;\n",
              "    }\n",
              "\n",
              "    .colab-df-buttons div {\n",
              "      margin-bottom: 4px;\n",
              "    }\n",
              "\n",
              "    [theme=dark] .colab-df-convert {\n",
              "      background-color: #3B4455;\n",
              "      fill: #D2E3FC;\n",
              "    }\n",
              "\n",
              "    [theme=dark] .colab-df-convert:hover {\n",
              "      background-color: #434B5C;\n",
              "      box-shadow: 0px 1px 3px 1px rgba(0, 0, 0, 0.15);\n",
              "      filter: drop-shadow(0px 1px 2px rgba(0, 0, 0, 0.3));\n",
              "      fill: #FFFFFF;\n",
              "    }\n",
              "  </style>\n",
              "\n",
              "    <script>\n",
              "      const buttonEl =\n",
              "        document.querySelector('#df-9ee48ad4-04f5-4d20-8384-57d1e45f7e19 button.colab-df-convert');\n",
              "      buttonEl.style.display =\n",
              "        google.colab.kernel.accessAllowed ? 'block' : 'none';\n",
              "\n",
              "      async function convertToInteractive(key) {\n",
              "        const element = document.querySelector('#df-9ee48ad4-04f5-4d20-8384-57d1e45f7e19');\n",
              "        const dataTable =\n",
              "          await google.colab.kernel.invokeFunction('convertToInteractive',\n",
              "                                                    [key], {});\n",
              "        if (!dataTable) return;\n",
              "\n",
              "        const docLinkHtml = 'Like what you see? Visit the ' +\n",
              "          '<a target=\"_blank\" href=https://colab.research.google.com/notebooks/data_table.ipynb>data table notebook</a>'\n",
              "          + ' to learn more about interactive tables.';\n",
              "        element.innerHTML = '';\n",
              "        dataTable['output_type'] = 'display_data';\n",
              "        await google.colab.output.renderOutput(dataTable, element);\n",
              "        const docLink = document.createElement('div');\n",
              "        docLink.innerHTML = docLinkHtml;\n",
              "        element.appendChild(docLink);\n",
              "      }\n",
              "    </script>\n",
              "  </div>\n",
              "\n",
              "\n",
              "<div id=\"df-a7b1d4b2-f61c-4a32-bbd0-8bfe066713cd\">\n",
              "  <button class=\"colab-df-quickchart\" onclick=\"quickchart('df-a7b1d4b2-f61c-4a32-bbd0-8bfe066713cd')\"\n",
              "            title=\"Suggest charts\"\n",
              "            style=\"display:none;\">\n",
              "\n",
              "<svg xmlns=\"http://www.w3.org/2000/svg\" height=\"24px\"viewBox=\"0 0 24 24\"\n",
              "     width=\"24px\">\n",
              "    <g>\n",
              "        <path d=\"M19 3H5c-1.1 0-2 .9-2 2v14c0 1.1.9 2 2 2h14c1.1 0 2-.9 2-2V5c0-1.1-.9-2-2-2zM9 17H7v-7h2v7zm4 0h-2V7h2v10zm4 0h-2v-4h2v4z\"/>\n",
              "    </g>\n",
              "</svg>\n",
              "  </button>\n",
              "\n",
              "<style>\n",
              "  .colab-df-quickchart {\n",
              "      --bg-color: #E8F0FE;\n",
              "      --fill-color: #1967D2;\n",
              "      --hover-bg-color: #E2EBFA;\n",
              "      --hover-fill-color: #174EA6;\n",
              "      --disabled-fill-color: #AAA;\n",
              "      --disabled-bg-color: #DDD;\n",
              "  }\n",
              "\n",
              "  [theme=dark] .colab-df-quickchart {\n",
              "      --bg-color: #3B4455;\n",
              "      --fill-color: #D2E3FC;\n",
              "      --hover-bg-color: #434B5C;\n",
              "      --hover-fill-color: #FFFFFF;\n",
              "      --disabled-bg-color: #3B4455;\n",
              "      --disabled-fill-color: #666;\n",
              "  }\n",
              "\n",
              "  .colab-df-quickchart {\n",
              "    background-color: var(--bg-color);\n",
              "    border: none;\n",
              "    border-radius: 50%;\n",
              "    cursor: pointer;\n",
              "    display: none;\n",
              "    fill: var(--fill-color);\n",
              "    height: 32px;\n",
              "    padding: 0;\n",
              "    width: 32px;\n",
              "  }\n",
              "\n",
              "  .colab-df-quickchart:hover {\n",
              "    background-color: var(--hover-bg-color);\n",
              "    box-shadow: 0 1px 2px rgba(60, 64, 67, 0.3), 0 1px 3px 1px rgba(60, 64, 67, 0.15);\n",
              "    fill: var(--button-hover-fill-color);\n",
              "  }\n",
              "\n",
              "  .colab-df-quickchart-complete:disabled,\n",
              "  .colab-df-quickchart-complete:disabled:hover {\n",
              "    background-color: var(--disabled-bg-color);\n",
              "    fill: var(--disabled-fill-color);\n",
              "    box-shadow: none;\n",
              "  }\n",
              "\n",
              "  .colab-df-spinner {\n",
              "    border: 2px solid var(--fill-color);\n",
              "    border-color: transparent;\n",
              "    border-bottom-color: var(--fill-color);\n",
              "    animation:\n",
              "      spin 1s steps(1) infinite;\n",
              "  }\n",
              "\n",
              "  @keyframes spin {\n",
              "    0% {\n",
              "      border-color: transparent;\n",
              "      border-bottom-color: var(--fill-color);\n",
              "      border-left-color: var(--fill-color);\n",
              "    }\n",
              "    20% {\n",
              "      border-color: transparent;\n",
              "      border-left-color: var(--fill-color);\n",
              "      border-top-color: var(--fill-color);\n",
              "    }\n",
              "    30% {\n",
              "      border-color: transparent;\n",
              "      border-left-color: var(--fill-color);\n",
              "      border-top-color: var(--fill-color);\n",
              "      border-right-color: var(--fill-color);\n",
              "    }\n",
              "    40% {\n",
              "      border-color: transparent;\n",
              "      border-right-color: var(--fill-color);\n",
              "      border-top-color: var(--fill-color);\n",
              "    }\n",
              "    60% {\n",
              "      border-color: transparent;\n",
              "      border-right-color: var(--fill-color);\n",
              "    }\n",
              "    80% {\n",
              "      border-color: transparent;\n",
              "      border-right-color: var(--fill-color);\n",
              "      border-bottom-color: var(--fill-color);\n",
              "    }\n",
              "    90% {\n",
              "      border-color: transparent;\n",
              "      border-bottom-color: var(--fill-color);\n",
              "    }\n",
              "  }\n",
              "</style>\n",
              "\n",
              "  <script>\n",
              "    async function quickchart(key) {\n",
              "      const quickchartButtonEl =\n",
              "        document.querySelector('#' + key + ' button');\n",
              "      quickchartButtonEl.disabled = true;  // To prevent multiple clicks.\n",
              "      quickchartButtonEl.classList.add('colab-df-spinner');\n",
              "      try {\n",
              "        const charts = await google.colab.kernel.invokeFunction(\n",
              "            'suggestCharts', [key], {});\n",
              "      } catch (error) {\n",
              "        console.error('Error during call to suggestCharts:', error);\n",
              "      }\n",
              "      quickchartButtonEl.classList.remove('colab-df-spinner');\n",
              "      quickchartButtonEl.classList.add('colab-df-quickchart-complete');\n",
              "    }\n",
              "    (() => {\n",
              "      let quickchartButtonEl =\n",
              "        document.querySelector('#df-a7b1d4b2-f61c-4a32-bbd0-8bfe066713cd button');\n",
              "      quickchartButtonEl.style.display =\n",
              "        google.colab.kernel.accessAllowed ? 'block' : 'none';\n",
              "    })();\n",
              "  </script>\n",
              "</div>\n",
              "\n",
              "    </div>\n",
              "  </div>\n"
            ],
            "application/vnd.google.colaboratory.intrinsic+json": {
              "type": "dataframe",
              "repr_error": "0"
            }
          },
          "metadata": {},
          "execution_count": 49
        }
      ]
    }
  ]
}